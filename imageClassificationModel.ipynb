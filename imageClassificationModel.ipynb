{
  "nbformat": 4,
  "nbformat_minor": 0,
  "metadata": {
    "colab": {
      "name": "Untitled0.ipynb",
      "provenance": [],
      "include_colab_link": true
    },
    "kernelspec": {
      "name": "python3",
      "display_name": "Python 3"
    },
    "language_info": {
      "name": "python"
    }
  },
  "cells": [
    {
      "cell_type": "markdown",
      "metadata": {
        "id": "view-in-github",
        "colab_type": "text"
      },
      "source": [
        "<a href=\"https://colab.research.google.com/github/MUKWAYAN/DeepLearning_imageClassification/blob/main/imageClassificationModel.ipynb\" target=\"_parent\"><img src=\"https://colab.research.google.com/assets/colab-badge.svg\" alt=\"Open In Colab\"/></a>"
      ]
    },
    {
      "cell_type": "code",
      "source": [
        "from google.colab import drive\n",
        "drive.mount('/content/gdrive')"
      ],
      "metadata": {
        "id": "5HgMptv5x_9b",
        "outputId": "37743918-dfff-4d15-a45f-5569c0bdfc7b",
        "colab": {
          "base_uri": "https://localhost:8080/"
        }
      },
      "execution_count": 3,
      "outputs": [
        {
          "output_type": "stream",
          "name": "stdout",
          "text": [
            "Mounted at /content/gdrive\n"
          ]
        }
      ]
    },
    {
      "cell_type": "code",
      "execution_count": 31,
      "metadata": {
        "id": "3f3EhtjpADx6"
      },
      "outputs": [],
      "source": [
        "from tensorflow import keras\n",
        "from keras_preprocessing import image\n",
        "from keras_preprocessing.image import ImageDataGenerator\n",
        "import matplotlib.pyplot as plt\n",
        "import os\n",
        "import cv2\n",
        "import numpy as np\n",
        "from os import listdir\n",
        "from os.path import isfile, join\n",
        "from PIL import Image"
      ]
    },
    {
      "cell_type": "code",
      "source": [
        "train_datagen = ImageDataGenerator(\n",
        "    rescale=1./255,\n",
        "    rotation_range=20,\n",
        "    width_shift_range=0.15,\n",
        "    height_shift_range=0.15,\n",
        "    shear_range=0.15,\n",
        "    zoom_range=0.15,\n",
        "    horizontal_flip=True,\n",
        "    fill_mode='nearest')\n",
        "val_datagen = ImageDataGenerator( rescale=1./255,\n",
        "    rotation_range=20,\n",
        "    width_shift_range=0.15,\n",
        "    height_shift_range=0.15,\n",
        "    shear_range=0.15,\n",
        "    zoom_range=0.15,\n",
        "    horizontal_flip=True,\n",
        "    fill_mode='nearest')\n",
        "test_datagen = ImageDataGenerator(rescale=1./255)"
      ],
      "metadata": {
        "id": "b_3_U_TXSbLj"
      },
      "execution_count": 190,
      "outputs": []
    },
    {
      "cell_type": "code",
      "source": [
        "\n",
        "\n",
        "train_generator = train_datagen.flow_from_directory(\n",
        "    \"/content/gdrive/MyDrive/Deep Learning/Dataset1/train/\", target_size=(256,256), color_mode=\"grayscale\", batch_size=32,class_mode='binary')\n",
        "\n",
        "\n",
        "validation_generator = val_datagen.flow_from_directory(\n",
        "    \"/content/gdrive/MyDrive/Deep Learning/Dataset1/validation/\", target_size=(256,256),color_mode=\"grayscale\", batch_size=32,class_mode='binary')\n",
        "\t\n",
        "test_generator = test_datagen.flow_from_directory(\n",
        "     \"/content/gdrive/MyDrive/Deep Learning/Dataset1/validation/\", target_size=(256,256),color_mode=\"grayscale\",batch_size=32,class_mode='binary')  \n",
        "\n",
        "x_test=[]\n",
        "test_path = \"/content/gdrive/MyDrive/Deep Learning/Dataset1/validation\";\n",
        "for folder in os.listdir(test_path):\n",
        "\n",
        "    sub_path=test_path+\"/\"+folder\n",
        "\n",
        "    for img in os.listdir(sub_path):\n",
        "\n",
        "        image_path=sub_path+\"/\"+img\n",
        "\n",
        "        img_arr=cv2.imread(image_path,cv2.IMREAD_GRAYSCALE)\n",
        "\n",
        "        img_arr=cv2.resize(img_arr,(256,256))\n",
        "\n",
        "        x_test.append(img_arr)"
      ],
      "metadata": {
        "colab": {
          "base_uri": "https://localhost:8080/"
        },
        "id": "yVSzoFkDTQl1",
        "outputId": "b5faa9c6-0a23-4882-8282-362a1e22ca70"
      },
      "execution_count": 219,
      "outputs": [
        {
          "output_type": "stream",
          "name": "stdout",
          "text": [
            "Found 525 images belonging to 2 classes.\n",
            "Found 190 images belonging to 2 classes.\n",
            "Found 190 images belonging to 2 classes.\n"
          ]
        }
      ]
    },
    {
      "cell_type": "code",
      "source": [
        "print(\"- Test-set:\\t\\t{}\".format(len(train_generator)))"
      ],
      "metadata": {
        "id": "1tT9cR7tJ4Rj",
        "outputId": "dfc7d6ae-0c7e-4aa3-fce1-9d3cf8b12331",
        "colab": {
          "base_uri": "https://localhost:8080/"
        }
      },
      "execution_count": 159,
      "outputs": [
        {
          "output_type": "stream",
          "name": "stdout",
          "text": [
            "- Test-set:\t\t11\n"
          ]
        }
      ]
    },
    {
      "cell_type": "code",
      "source": [
        "model = keras.Sequential([\n",
        "    keras.layers.Conv2D(32,(3,3), activation='relu', input_shape=(256,256,1)),\n",
        "    keras.layers.MaxPool2D((2,2)),\n",
        "    keras.layers.Conv2D(64,(3,3),activation='relu'),\n",
        "    keras.layers.MaxPool2D(2,2),\n",
        "    keras.layers.Conv2D(128,(3,3), activation='relu'),\n",
        "    keras.layers.MaxPool2D(2,2),\n",
        "    keras.layers.Conv2D(128,(3,3), activation='relu'),\n",
        "    keras.layers.MaxPool2D(2,2),\n",
        "    keras.layers.Flatten(input_shape=(256,256)),\n",
        "    keras.layers.Dropout(0.8),\n",
        "    keras.layers.Dense(300, activation='relu'),\n",
        "    keras.layers.Dense(1, activation='sigmoid')])\n",
        "\n",
        "model.summary()"
      ],
      "metadata": {
        "id": "HHxWDOkJ03tK",
        "outputId": "f17fff8b-aa3b-4cb6-cf25-e38811d1cf92",
        "colab": {
          "base_uri": "https://localhost:8080/"
        }
      },
      "execution_count": 220,
      "outputs": [
        {
          "output_type": "stream",
          "name": "stdout",
          "text": [
            "Model: \"sequential_27\"\n",
            "_________________________________________________________________\n",
            " Layer (type)                Output Shape              Param #   \n",
            "=================================================================\n",
            " conv2d_112 (Conv2D)         (None, 254, 254, 32)      320       \n",
            "                                                                 \n",
            " max_pooling2d_112 (MaxPooli  (None, 127, 127, 32)     0         \n",
            " ng2D)                                                           \n",
            "                                                                 \n",
            " conv2d_113 (Conv2D)         (None, 125, 125, 64)      18496     \n",
            "                                                                 \n",
            " max_pooling2d_113 (MaxPooli  (None, 62, 62, 64)       0         \n",
            " ng2D)                                                           \n",
            "                                                                 \n",
            " conv2d_114 (Conv2D)         (None, 60, 60, 128)       73856     \n",
            "                                                                 \n",
            " max_pooling2d_114 (MaxPooli  (None, 30, 30, 128)      0         \n",
            " ng2D)                                                           \n",
            "                                                                 \n",
            " conv2d_115 (Conv2D)         (None, 28, 28, 128)       147584    \n",
            "                                                                 \n",
            " max_pooling2d_115 (MaxPooli  (None, 14, 14, 128)      0         \n",
            " ng2D)                                                           \n",
            "                                                                 \n",
            " flatten_28 (Flatten)        (None, 25088)             0         \n",
            "                                                                 \n",
            " dropout_28 (Dropout)        (None, 25088)             0         \n",
            "                                                                 \n",
            " dense_54 (Dense)            (None, 300)               7526700   \n",
            "                                                                 \n",
            " dense_55 (Dense)            (None, 1)                 301       \n",
            "                                                                 \n",
            "=================================================================\n",
            "Total params: 7,767,257\n",
            "Trainable params: 7,767,257\n",
            "Non-trainable params: 0\n",
            "_________________________________________________________________\n"
          ]
        }
      ]
    },
    {
      "cell_type": "code",
      "source": [
        "model.compile(optimizer='RMSProp', \n",
        "              loss='binary_crossentropy',\n",
        "              metrics=['accuracy'])\n",
        "            \n"
      ],
      "metadata": {
        "id": "Jem6ZHSL1Ghu"
      },
      "execution_count": 221,
      "outputs": []
    },
    {
      "cell_type": "code",
      "source": [
        "history = model.fit(train_generator, steps_per_epoch = 11, epochs=10, validation_data=validation_generator, validation_steps=3)"
      ],
      "metadata": {
        "id": "0YUnvHzX3FNG",
        "outputId": "9d79f08a-1802-40a8-94ee-98924c3d5a28",
        "colab": {
          "base_uri": "https://localhost:8080/"
        }
      },
      "execution_count": 222,
      "outputs": [
        {
          "output_type": "stream",
          "name": "stdout",
          "text": [
            "Epoch 1/10\n",
            "11/11 [==============================] - 53s 5s/step - loss: 0.7358 - accuracy: 0.5465 - val_loss: 0.6354 - val_accuracy: 0.7083\n",
            "Epoch 2/10\n",
            "11/11 [==============================] - 51s 5s/step - loss: 0.7442 - accuracy: 0.6396 - val_loss: 0.7216 - val_accuracy: 0.3542\n",
            "Epoch 3/10\n",
            "11/11 [==============================] - 53s 5s/step - loss: 0.6658 - accuracy: 0.6619 - val_loss: 0.5950 - val_accuracy: 0.7500\n",
            "Epoch 4/10\n",
            "11/11 [==============================] - 52s 5s/step - loss: 0.4543 - accuracy: 0.8198 - val_loss: 0.5962 - val_accuracy: 0.7188\n",
            "Epoch 5/10\n",
            "11/11 [==============================] - 51s 5s/step - loss: 0.6070 - accuracy: 0.7508 - val_loss: 0.4778 - val_accuracy: 0.7708\n",
            "Epoch 6/10\n",
            "11/11 [==============================] - 52s 5s/step - loss: 0.5554 - accuracy: 0.7237 - val_loss: 0.3385 - val_accuracy: 0.8958\n",
            "Epoch 7/10\n",
            "11/11 [==============================] - 50s 4s/step - loss: 0.4290 - accuracy: 0.8138 - val_loss: 0.4285 - val_accuracy: 0.8125\n",
            "Epoch 8/10\n",
            "11/11 [==============================] - 53s 5s/step - loss: 0.4188 - accuracy: 0.8097 - val_loss: 0.3933 - val_accuracy: 0.8229\n",
            "Epoch 9/10\n",
            "11/11 [==============================] - 52s 5s/step - loss: 0.4907 - accuracy: 0.7928 - val_loss: 0.4186 - val_accuracy: 0.8542\n",
            "Epoch 10/10\n",
            "11/11 [==============================] - 55s 5s/step - loss: 0.4490 - accuracy: 0.7983 - val_loss: 0.3888 - val_accuracy: 0.8333\n"
          ]
        }
      ]
    },
    {
      "cell_type": "code",
      "source": [
        "test_x=np.array(x_test)\n",
        "test_x=test_x/255.0\n",
        "test_y=test_generator.classes\n",
        "#print(test_generator)\n",
        "model.evaluate(test_x,test_y)"
      ],
      "metadata": {
        "id": "k_Ij2sC1Hkfa",
        "outputId": "acf9efef-be6a-4b48-b341-0481957fed84",
        "colab": {
          "base_uri": "https://localhost:8080/"
        }
      },
      "execution_count": 217,
      "outputs": [
        {
          "output_type": "stream",
          "name": "stdout",
          "text": [
            "6/6 [==============================] - 7s 1s/step - loss: 1.1071 - accuracy: 0.3421\n"
          ]
        },
        {
          "output_type": "execute_result",
          "data": {
            "text/plain": [
              "[1.1070579290390015, 0.34210526943206787]"
            ]
          },
          "metadata": {},
          "execution_count": 217
        }
      ]
    },
    {
      "cell_type": "code",
      "source": [
        "acc_train = history.history['accuracy']\n",
        "acc_val = history.history['val_accuracy']\n",
        "epochs = range(1,11)\n",
        "# print(\"- Test-set:\\t\\t{}\".format(len(acc_train)))\n",
        "plt.plot(epochs,acc_train, 'g', label='training accuracy')\n",
        "plt.plot(epochs, acc_val, 'b', label= 'validation accuracy')\n",
        "plt.title('Training and Validation accuracy')\n",
        "plt.xlabel('Epochs')\n",
        "plt.ylabel('Accuracy')\n",
        "plt.legend()\n",
        "plt.show()"
      ],
      "metadata": {
        "id": "2bahVK1uQess",
        "outputId": "018d69f2-eec0-423a-a5d2-bc199d5031cb",
        "colab": {
          "base_uri": "https://localhost:8080/",
          "height": 295
        }
      },
      "execution_count": 197,
      "outputs": [
        {
          "output_type": "display_data",
          "data": {
            "text/plain": [
              "<Figure size 432x288 with 1 Axes>"
            ],
            "image/png": "[encoded data removed]"
          },
          "metadata": {
            "needs_background": "light"
          }
        }
      ]
    },
    {
      "cell_type": "code",
      "source": [
        "model.save('sick_normal_model.h5')"
      ],
      "metadata": {
        "id": "WFZv22lui_OW"
      },
      "execution_count": 39,
      "outputs": []
    },
    {
      "cell_type": "code",
      "source": [
        "model = keras.Sequential([\n",
        "    keras.layers.Conv2D(32,(3,3), activation='relu', input_shape=(150,150,1)),\n",
        "    keras.layers.MaxPool2D((2,2)),\n",
        "    keras.layers.Conv2D(64,(3,3),activation='relu'),\n",
        "    keras.layers.MaxPool2D(2,2),\n",
        "    keras.layers.Conv2D(128,(3,3), activation='relu'),\n",
        "    keras.layers.MaxPool2D(2,2),\n",
        "    keras.layers.Conv2D(128,(3,3), activation='relu'),\n",
        "    keras.layers.MaxPool2D(2,2),\n",
        "    keras.layers.Flatten(),\n",
        "    keras.layers.Dropout(0.5),\n",
        "    keras.layers.Dense(512, activation='relu'),\n",
        "    keras.layers.Dense(1, activation='sigmoid')])\n",
        "\n",
        "model.load_weights(\"sick_normal_model.h5\")"
      ],
      "metadata": {
        "id": "pgyjeJquli2q"
      },
      "execution_count": 40,
      "outputs": []
    },
    {
      "cell_type": "code",
      "source": [
        "\n",
        "\n",
        "mypath = \"/content/gdrive/MyDrive/Deep Learning/Dataset1/train/sick/\"\n",
        "onlyfiles = [f for f in listdir(mypath) if isfile(join(mypath, f))]\n",
        "\n",
        "for image_file in onlyfiles:\n",
        "    img = image.load_img(mypath + image_file,  target_size=(256,256),color_mode=\"grayscale\")\n",
        "    x = image.img_to_array(img)\n",
        "    x = x.reshape((1,)+x.shape)\n",
        "    #print(x)\n",
        "    print(model.predict(x))\n",
        "    if model.predict(x) < 0.3:\n",
        "       print(image_file + \": Must be normal\")\n",
        "    if model.predict(x) > 0.7:\n",
        "        print(image_file + \": Must be sick\")\n",
        "    if model.predict(x) > 0.3 and model.predict(x) < 0.7:\n",
        "        print(image_file + \": Not sure if its sick or normal\")"
      ],
      "metadata": {
        "id": "CZ8MIEXRjzuu",
        "outputId": "8a36d8b3-d7d0-48c0-8039-2e19fc4e28ac",
        "colab": {
          "base_uri": "https://localhost:8080/",
          "height": 1000
        }
      },
      "execution_count": 218,
      "outputs": [
        {
          "output_type": "stream",
          "name": "stdout",
          "text": [
            "[[2.2313276e-23]]\n",
            "sick_318.png: Must be normal\n",
            "[[2.319534e-14]]\n",
            "sick_235.png: Must be normal\n",
            "[[1.]]\n",
            "sick_230.png: Must be sick\n",
            "[[1.]]\n",
            "sick_280.png: Must be sick\n",
            "[[8.039423e-13]]\n",
            "sick_116.png: Must be normal\n",
            "[[0.]]\n",
            "sick_342.png: Must be normal\n",
            "[[1.]]\n",
            "sick_131.png: Must be sick\n",
            "[[0.]]\n",
            "sick_141.png: Must be normal\n",
            "[[0.]]\n",
            "sick_213.png: Must be normal\n",
            "[[1.]]\n",
            "sick_222.png: Must be sick\n",
            "[[1.]]\n",
            "sick_311.png: Must be sick\n",
            "[[0.]]\n",
            "sick_200.png: Must be normal\n",
            "[[1.]]\n",
            "sick_123.png: Must be sick\n",
            "[[1.]]\n",
            "sick_197.png: Must be sick\n",
            "[[1.]]\n",
            "sick_173.png: Must be sick\n",
            "[[0.]]\n",
            "sick_78.png: Must be normal\n",
            "[[1.]]\n",
            "sick_215.png: Must be sick\n",
            "[[1.]]\n",
            "sick_307.png: Must be sick\n",
            "[[1.]]\n",
            "sick_108.png: Must be sick\n",
            "[[1.]]\n",
            "sick_217.png: Must be sick\n",
            "[[8.4911e-31]]\n",
            "sick_186.png: Must be normal\n",
            "[[4.399277e-25]]\n",
            "sick_145.png: Must be normal\n",
            "[[0.]]\n",
            "sick_103.png: Must be normal\n",
            "[[1.]]\n",
            "sick_370.png: Must be sick\n",
            "[[1.]]\n",
            "sick_101.png: Must be sick\n",
            "[[1.]]\n",
            "sick_266.png: Must be sick\n",
            "[[1.]]\n",
            "sick_216.png: Must be sick\n",
            "[[0.]]\n",
            "sick_98.png: Must be normal\n",
            "[[1.]]\n",
            "sick_363.png: Must be sick\n",
            "[[3.6178577e-28]]\n",
            "sick_316.png: Must be normal\n",
            "[[0.]]\n",
            "sick_148.png: Must be normal\n",
            "[[0.]]\n",
            "sick_285.png: Must be normal\n",
            "[[1.]]\n",
            "sick_251.png: Must be sick\n",
            "[[0.]]\n",
            "sick_347.png: Must be normal\n",
            "[[0.]]\n",
            "sick_295.png: Must be normal\n",
            "[[0.]]\n",
            "sick_264.png: Must be normal\n",
            "[[1.]]\n",
            "sick_212.png: Must be sick\n",
            "[[1.]]\n",
            "sick_167.png: Must be sick\n",
            "[[1.]]\n",
            "sick_310.png: Must be sick\n",
            "[[0.]]\n",
            "sick_255.png: Must be normal\n",
            "[[0.]]\n",
            "sick_182.png: Must be normal\n",
            "[[0.]]\n",
            "sick_372.png: Must be normal\n",
            "[[0.]]\n",
            "sick_160.png: Must be normal\n",
            "[[1.]]\n",
            "sick_351.png: Must be sick\n",
            "[[0.]]\n",
            "sick_140.png: Must be normal\n",
            "[[0.]]\n",
            "sick_179.png: Must be normal\n",
            "[[1.]]\n",
            "sick_92.png: Must be sick\n",
            "[[1.]]\n",
            "sick_93.png: Must be sick\n",
            "[[1.]]\n",
            "sick_362.png: Must be sick\n",
            "[[1.]]\n",
            "sick_334.png: Must be sick\n",
            "[[1.]]\n",
            "sick_77.png: Must be sick\n",
            "[[0.]]\n",
            "sick_314.png: Must be normal\n",
            "[[1.]]\n",
            "sick_84.png: Must be sick\n",
            "[[1.]]\n",
            "sick_187.png: Must be sick\n",
            "[[0.]]\n",
            "sick_354.png: Must be normal\n",
            "[[1.]]\n",
            "sick_360.png: Must be sick\n",
            "[[0.]]\n",
            "sick_270.png: Must be normal\n",
            "[[1.]]\n",
            "sick_166.png: Must be sick\n",
            "[[0.]]\n",
            "sick_349.png: Must be normal\n",
            "[[1.]]\n",
            "sick_231.png: Must be sick\n",
            "[[0.]]\n",
            "sick_174.png: Must be normal\n",
            "[[1.]]\n",
            "sick_155.png: Must be sick\n",
            "[[0.]]\n",
            "sick_229.png: Must be normal\n",
            "[[1.]]\n",
            "sick_292.png: Must be sick\n",
            "[[0.]]\n",
            "sick_102.png: Must be normal\n",
            "[[1.]]\n",
            "sick_129.png: Must be sick\n",
            "[[0.]]\n",
            "sick_287.png: Must be normal\n",
            "[[1.]]\n",
            "sick_124.png: Must be sick\n",
            "[[0.]]\n",
            "sick_171.png: Must be normal\n",
            "[[0.]]\n",
            "sick_317.png: Must be normal\n",
            "[[0.]]\n",
            "sick_201.png: Must be normal\n",
            "[[3.0059046e-22]]\n",
            "sick_226.png: Must be normal\n",
            "[[0.]]\n",
            "sick_100.png: Must be normal\n",
            "[[1.]]\n",
            "sick_288.png: Must be sick\n",
            "[[1.]]\n",
            "sick_308.png: Must be sick\n",
            "[[0.]]\n",
            "sick_302.png: Must be normal\n",
            "[[1.]]\n",
            "sick_284.png: Must be sick\n",
            "[[1.]]\n",
            "sick_281.png: Must be sick\n",
            "[[1.]]\n",
            "sick_122.png: Must be sick\n",
            "[[0.]]\n",
            "sick_110.png: Must be normal\n",
            "[[1.]]\n",
            "sick_313.png: Must be sick\n",
            "[[0.]]\n",
            "sick_352.png: Must be normal\n",
            "[[1.]]\n",
            "sick_188.png: Must be sick\n",
            "[[1.]]\n",
            "sick_289.png: Must be sick\n",
            "[[2.1712751e-22]]\n",
            "sick_149.png: Must be normal\n",
            "[[1.]]\n",
            "sick_257.png: Must be sick\n",
            "[[0.]]\n",
            "sick_228.png: Must be normal\n",
            "[[1.]]\n",
            "sick_76.png: Must be sick\n",
            "[[0.]]\n",
            "sick_115.png: Must be normal\n",
            "[[1.]]\n",
            "sick_297.png: Must be sick\n",
            "[[9.207049e-25]]\n",
            "sick_126.png: Must be normal\n",
            "[[0.]]\n",
            "sick_114.png: Must be normal\n",
            "[[0.]]\n",
            "sick_282.png: Must be normal\n",
            "[[0.]]\n",
            "sick_366.png: Must be normal\n",
            "[[0.]]\n",
            "sick_300.png: Must be normal\n",
            "[[1.]]\n",
            "sick_321.png: Must be sick\n",
            "[[0.]]\n",
            "sick_272.png: Must be normal\n",
            "[[3.3997307e-14]]\n",
            "sick_276.png: Must be normal\n",
            "[[7.8597226e-32]]\n",
            "sick_161.png: Must be normal\n",
            "[[1.]]\n",
            "sick_80.png: Must be sick\n",
            "[[1.]]\n",
            "sick_340.png: Must be sick\n",
            "[[1.]]\n",
            "sick_156.png: Must be sick\n",
            "[[0.]]\n",
            "sick_79.png: Must be normal\n",
            "[[1.]]\n",
            "sick_88.png: Must be sick\n",
            "[[1.]]\n",
            "sick_327.png: Must be sick\n",
            "[[2.1972622e-38]]\n",
            "sick_268.png: Must be normal\n",
            "[[1.]]\n",
            "sick_203.png: Must be sick\n",
            "[[1.]]\n",
            "sick_350.png: Must be sick\n",
            "[[1.]]\n",
            "sick_299.png: Must be sick\n",
            "[[0.]]\n",
            "sick_183.png: Must be normal\n",
            "[[6.094364e-32]]\n",
            "sick_304.png: Must be normal\n",
            "[[0.]]\n",
            "sick_97.png: Must be normal\n",
            "[[1.]]\n",
            "sick_112.png: Must be sick\n",
            "[[1.]]\n",
            "sick_204.png: Must be sick\n",
            "[[1.]]\n",
            "sick_293.png: Must be sick\n",
            "[[0.]]\n",
            "sick_150.png: Must be normal\n",
            "[[1.]]\n",
            "sick_81.png: Must be sick\n",
            "[[0.32196343]]\n",
            "sick_322.png: Not sure if its sick or normal\n",
            "[[1.]]\n",
            "sick_209.png: Must be sick\n",
            "[[1.]]\n",
            "sick_158.png: Must be sick\n",
            "[[0.99986374]]\n",
            "sick_309.png: Must be sick\n",
            "[[1.]]\n",
            "sick_132.png: Must be sick\n",
            "[[0.]]\n",
            "sick_283.png: Must be normal\n",
            "[[1.]]\n",
            "sick_157.png: Must be sick\n",
            "[[0.]]\n",
            "sick_87.png: Must be normal\n",
            "[[0.]]\n",
            "sick_343.png: Must be normal\n",
            "[[1.]]\n",
            "sick_269.png: Must be sick\n",
            "[[2.1598347e-36]]\n",
            "sick_260.png: Must be normal\n",
            "[[0.9999919]]\n",
            "sick_169.png: Must be sick\n",
            "[[0.]]\n",
            "sick_373.png: Must be normal\n",
            "[[0.]]\n",
            "sick_153.png: Must be normal\n",
            "[[0.]]\n",
            "sick_303.png: Must be normal\n",
            "[[1.]]\n",
            "sick_298.png: Must be sick\n",
            "[[1.]]\n",
            "sick_202.png: Must be sick\n",
            "[[0.9994329]]\n",
            "sick_263.png: Must be sick\n",
            "[[1.]]\n",
            "sick_198.png: Must be sick\n",
            "[[9.464555e-17]]\n",
            "sick_224.png: Must be normal\n",
            "[[1.]]\n",
            "sick_291.png: Must be sick\n",
            "[[1.]]\n",
            "sick_306.png: Must be sick\n",
            "[[0.]]\n",
            "sick_286.png: Must be normal\n",
            "[[1.]]\n",
            "sick_199.png: Must be sick\n",
            "[[0.]]\n",
            "sick_358.png: Must be normal\n",
            "[[1.]]\n",
            "sick_278.png: Must be sick\n",
            "[[1.]]\n",
            "sick_305.png: Must be sick\n",
            "[[0.]]\n",
            "sick_258.png: Must be normal\n",
            "[[1.]]\n",
            "sick_139.png: Must be sick\n",
            "[[1.]]\n",
            "sick_219.png: Must be sick\n",
            "[[1.]]\n",
            "sick_320.png: Must be sick\n",
            "[[0.]]\n",
            "sick_152.png: Must be normal\n",
            "[[1.]]\n",
            "sick_249.png: Must be sick\n",
            "[[0.]]\n",
            "sick_301.png: Must be normal\n",
            "[[1.]]\n",
            "sick_164.png: Must be sick\n",
            "[[1.]]\n",
            "sick_147.png: Must be sick\n",
            "[[1.]]\n",
            "sick_279.png: Must be sick\n",
            "[[1.]]\n",
            "sick_338.png: Must be sick\n",
            "[[1.]]\n",
            "sick_91.png: Must be sick\n",
            "[[1.]]\n",
            "sick_323.png: Must be sick\n",
            "[[1.]]\n",
            "sick_296.png: Must be sick\n",
            "[[0.]]\n",
            "sick_170.png: Must be normal\n",
            "[[1.]]\n",
            "sick_328.png: Must be sick\n",
            "[[1.]]\n",
            "sick_326.png: Must be sick\n",
            "[[0.]]\n",
            "sick_162.png: Must be normal\n",
            "[[1.]]\n",
            "sick_371.png: Must be sick\n",
            "[[1.]]\n",
            "sick_246.png: Must be sick\n",
            "[[0.]]\n",
            "sick_245.png: Must be normal\n",
            "[[1.]]\n",
            "sick_130.png: Must be sick\n"
          ]
        },
        {
          "output_type": "error",
          "ename": "KeyboardInterrupt",
          "evalue": "ignored",
          "traceback": [
            "\u001b[0;31m---------------------------------------------------------------------------\u001b[0m",
            "\u001b[0;31mKeyboardInterrupt\u001b[0m                         Traceback (most recent call last)",
            "\u001b[0;32m<ipython-input-218-8e4cd66e2cf4>\u001b[0m in \u001b[0;36m<module>\u001b[0;34m\u001b[0m\n\u001b[1;32m      7\u001b[0m     \u001b[0mx\u001b[0m \u001b[0;34m=\u001b[0m \u001b[0mx\u001b[0m\u001b[0;34m.\u001b[0m\u001b[0mreshape\u001b[0m\u001b[0;34m(\u001b[0m\u001b[0;34m(\u001b[0m\u001b[0;36m1\u001b[0m\u001b[0;34m,\u001b[0m\u001b[0;34m)\u001b[0m\u001b[0;34m+\u001b[0m\u001b[0mx\u001b[0m\u001b[0;34m.\u001b[0m\u001b[0mshape\u001b[0m\u001b[0;34m)\u001b[0m\u001b[0;34m\u001b[0m\u001b[0;34m\u001b[0m\u001b[0m\n\u001b[1;32m      8\u001b[0m     \u001b[0;31m#print(x)\u001b[0m\u001b[0;34m\u001b[0m\u001b[0;34m\u001b[0m\u001b[0;34m\u001b[0m\u001b[0m\n\u001b[0;32m----> 9\u001b[0;31m     \u001b[0mprint\u001b[0m\u001b[0;34m(\u001b[0m\u001b[0mmodel\u001b[0m\u001b[0;34m.\u001b[0m\u001b[0mpredict\u001b[0m\u001b[0;34m(\u001b[0m\u001b[0mx\u001b[0m\u001b[0;34m)\u001b[0m\u001b[0;34m)\u001b[0m\u001b[0;34m\u001b[0m\u001b[0;34m\u001b[0m\u001b[0m\n\u001b[0m\u001b[1;32m     10\u001b[0m     \u001b[0;32mif\u001b[0m \u001b[0mmodel\u001b[0m\u001b[0;34m.\u001b[0m\u001b[0mpredict\u001b[0m\u001b[0;34m(\u001b[0m\u001b[0mx\u001b[0m\u001b[0;34m)\u001b[0m \u001b[0;34m<\u001b[0m \u001b[0;36m0.3\u001b[0m\u001b[0;34m:\u001b[0m\u001b[0;34m\u001b[0m\u001b[0;34m\u001b[0m\u001b[0m\n\u001b[1;32m     11\u001b[0m        \u001b[0mprint\u001b[0m\u001b[0;34m(\u001b[0m\u001b[0mimage_file\u001b[0m \u001b[0;34m+\u001b[0m \u001b[0;34m\": Must be normal\"\u001b[0m\u001b[0;34m)\u001b[0m\u001b[0;34m\u001b[0m\u001b[0;34m\u001b[0m\u001b[0m\n",
            "\u001b[0;32m/usr/local/lib/python3.7/dist-packages/keras/utils/traceback_utils.py\u001b[0m in \u001b[0;36merror_handler\u001b[0;34m(*args, **kwargs)\u001b[0m\n\u001b[1;32m     62\u001b[0m     \u001b[0mfiltered_tb\u001b[0m \u001b[0;34m=\u001b[0m \u001b[0;32mNone\u001b[0m\u001b[0;34m\u001b[0m\u001b[0;34m\u001b[0m\u001b[0m\n\u001b[1;32m     63\u001b[0m     \u001b[0;32mtry\u001b[0m\u001b[0;34m:\u001b[0m\u001b[0;34m\u001b[0m\u001b[0;34m\u001b[0m\u001b[0m\n\u001b[0;32m---> 64\u001b[0;31m       \u001b[0;32mreturn\u001b[0m \u001b[0mfn\u001b[0m\u001b[0;34m(\u001b[0m\u001b[0;34m*\u001b[0m\u001b[0margs\u001b[0m\u001b[0;34m,\u001b[0m \u001b[0;34m**\u001b[0m\u001b[0mkwargs\u001b[0m\u001b[0;34m)\u001b[0m\u001b[0;34m\u001b[0m\u001b[0;34m\u001b[0m\u001b[0m\n\u001b[0m\u001b[1;32m     65\u001b[0m     \u001b[0;32mexcept\u001b[0m \u001b[0mException\u001b[0m \u001b[0;32mas\u001b[0m \u001b[0me\u001b[0m\u001b[0;34m:\u001b[0m  \u001b[0;31m# pylint: disable=broad-except\u001b[0m\u001b[0;34m\u001b[0m\u001b[0;34m\u001b[0m\u001b[0m\n\u001b[1;32m     66\u001b[0m       \u001b[0mfiltered_tb\u001b[0m \u001b[0;34m=\u001b[0m \u001b[0m_process_traceback_frames\u001b[0m\u001b[0;34m(\u001b[0m\u001b[0me\u001b[0m\u001b[0;34m.\u001b[0m\u001b[0m__traceback__\u001b[0m\u001b[0;34m)\u001b[0m\u001b[0;34m\u001b[0m\u001b[0;34m\u001b[0m\u001b[0m\n",
            "\u001b[0;32m/usr/local/lib/python3.7/dist-packages/keras/engine/training.py\u001b[0m in \u001b[0;36mpredict\u001b[0;34m(self, x, batch_size, verbose, steps, callbacks, max_queue_size, workers, use_multiprocessing)\u001b[0m\n\u001b[1;32m   1959\u001b[0m           \u001b[0muse_multiprocessing\u001b[0m\u001b[0;34m=\u001b[0m\u001b[0muse_multiprocessing\u001b[0m\u001b[0;34m,\u001b[0m\u001b[0;34m\u001b[0m\u001b[0;34m\u001b[0m\u001b[0m\n\u001b[1;32m   1960\u001b[0m           \u001b[0mmodel\u001b[0m\u001b[0;34m=\u001b[0m\u001b[0mself\u001b[0m\u001b[0;34m,\u001b[0m\u001b[0;34m\u001b[0m\u001b[0;34m\u001b[0m\u001b[0m\n\u001b[0;32m-> 1961\u001b[0;31m           steps_per_execution=self._steps_per_execution)\n\u001b[0m\u001b[1;32m   1962\u001b[0m \u001b[0;34m\u001b[0m\u001b[0m\n\u001b[1;32m   1963\u001b[0m       \u001b[0;31m# Container that configures and calls `tf.keras.Callback`s.\u001b[0m\u001b[0;34m\u001b[0m\u001b[0;34m\u001b[0m\u001b[0;34m\u001b[0m\u001b[0m\n",
            "\u001b[0;32m/usr/local/lib/python3.7/dist-packages/keras/engine/data_adapter.py\u001b[0m in \u001b[0;36mget_data_handler\u001b[0;34m(*args, **kwargs)\u001b[0m\n\u001b[1;32m   1397\u001b[0m   \u001b[0;32mif\u001b[0m \u001b[0mgetattr\u001b[0m\u001b[0;34m(\u001b[0m\u001b[0mkwargs\u001b[0m\u001b[0;34m[\u001b[0m\u001b[0;34m\"model\"\u001b[0m\u001b[0;34m]\u001b[0m\u001b[0;34m,\u001b[0m \u001b[0;34m\"_cluster_coordinator\"\u001b[0m\u001b[0;34m,\u001b[0m \u001b[0;32mNone\u001b[0m\u001b[0;34m)\u001b[0m\u001b[0;34m:\u001b[0m\u001b[0;34m\u001b[0m\u001b[0;34m\u001b[0m\u001b[0m\n\u001b[1;32m   1398\u001b[0m     \u001b[0;32mreturn\u001b[0m \u001b[0m_ClusterCoordinatorDataHandler\u001b[0m\u001b[0;34m(\u001b[0m\u001b[0;34m*\u001b[0m\u001b[0margs\u001b[0m\u001b[0;34m,\u001b[0m \u001b[0;34m**\u001b[0m\u001b[0mkwargs\u001b[0m\u001b[0;34m)\u001b[0m\u001b[0;34m\u001b[0m\u001b[0;34m\u001b[0m\u001b[0m\n\u001b[0;32m-> 1399\u001b[0;31m   \u001b[0;32mreturn\u001b[0m \u001b[0mDataHandler\u001b[0m\u001b[0;34m(\u001b[0m\u001b[0;34m*\u001b[0m\u001b[0margs\u001b[0m\u001b[0;34m,\u001b[0m \u001b[0;34m**\u001b[0m\u001b[0mkwargs\u001b[0m\u001b[0;34m)\u001b[0m\u001b[0;34m\u001b[0m\u001b[0;34m\u001b[0m\u001b[0m\n\u001b[0m\u001b[1;32m   1400\u001b[0m \u001b[0;34m\u001b[0m\u001b[0m\n\u001b[1;32m   1401\u001b[0m \u001b[0;34m\u001b[0m\u001b[0m\n",
            "\u001b[0;32m/usr/local/lib/python3.7/dist-packages/keras/engine/data_adapter.py\u001b[0m in \u001b[0;36m__init__\u001b[0;34m(self, x, y, sample_weight, batch_size, steps_per_epoch, initial_epoch, epochs, shuffle, class_weight, max_queue_size, workers, use_multiprocessing, model, steps_per_execution, distribute)\u001b[0m\n\u001b[1;32m   1159\u001b[0m         \u001b[0muse_multiprocessing\u001b[0m\u001b[0;34m=\u001b[0m\u001b[0muse_multiprocessing\u001b[0m\u001b[0;34m,\u001b[0m\u001b[0;34m\u001b[0m\u001b[0;34m\u001b[0m\u001b[0m\n\u001b[1;32m   1160\u001b[0m         \u001b[0mdistribution_strategy\u001b[0m\u001b[0;34m=\u001b[0m\u001b[0mtf\u001b[0m\u001b[0;34m.\u001b[0m\u001b[0mdistribute\u001b[0m\u001b[0;34m.\u001b[0m\u001b[0mget_strategy\u001b[0m\u001b[0;34m(\u001b[0m\u001b[0;34m)\u001b[0m\u001b[0;34m,\u001b[0m\u001b[0;34m\u001b[0m\u001b[0;34m\u001b[0m\u001b[0m\n\u001b[0;32m-> 1161\u001b[0;31m         model=model)\n\u001b[0m\u001b[1;32m   1162\u001b[0m \u001b[0;34m\u001b[0m\u001b[0m\n\u001b[1;32m   1163\u001b[0m     \u001b[0mstrategy\u001b[0m \u001b[0;34m=\u001b[0m \u001b[0mtf\u001b[0m\u001b[0;34m.\u001b[0m\u001b[0mdistribute\u001b[0m\u001b[0;34m.\u001b[0m\u001b[0mget_strategy\u001b[0m\u001b[0;34m(\u001b[0m\u001b[0;34m)\u001b[0m\u001b[0;34m\u001b[0m\u001b[0;34m\u001b[0m\u001b[0m\n",
            "\u001b[0;32m/usr/local/lib/python3.7/dist-packages/keras/engine/data_adapter.py\u001b[0m in \u001b[0;36m__init__\u001b[0;34m(self, x, y, sample_weights, sample_weight_modes, batch_size, epochs, steps, shuffle, **kwargs)\u001b[0m\n\u001b[1;32m    324\u001b[0m       \u001b[0;32mreturn\u001b[0m \u001b[0mflat_dataset\u001b[0m\u001b[0;34m\u001b[0m\u001b[0;34m\u001b[0m\u001b[0m\n\u001b[1;32m    325\u001b[0m \u001b[0;34m\u001b[0m\u001b[0m\n\u001b[0;32m--> 326\u001b[0;31m     \u001b[0mindices_dataset\u001b[0m \u001b[0;34m=\u001b[0m \u001b[0mindices_dataset\u001b[0m\u001b[0;34m.\u001b[0m\u001b[0mflat_map\u001b[0m\u001b[0;34m(\u001b[0m\u001b[0mslice_batch_indices\u001b[0m\u001b[0;34m)\u001b[0m\u001b[0;34m\u001b[0m\u001b[0;34m\u001b[0m\u001b[0m\n\u001b[0m\u001b[1;32m    327\u001b[0m \u001b[0;34m\u001b[0m\u001b[0m\n\u001b[1;32m    328\u001b[0m     \u001b[0mdataset\u001b[0m \u001b[0;34m=\u001b[0m \u001b[0mself\u001b[0m\u001b[0;34m.\u001b[0m\u001b[0mslice_inputs\u001b[0m\u001b[0;34m(\u001b[0m\u001b[0mindices_dataset\u001b[0m\u001b[0;34m,\u001b[0m \u001b[0minputs\u001b[0m\u001b[0;34m)\u001b[0m\u001b[0;34m\u001b[0m\u001b[0;34m\u001b[0m\u001b[0m\n",
            "\u001b[0;32m/usr/local/lib/python3.7/dist-packages/tensorflow/python/data/ops/dataset_ops.py\u001b[0m in \u001b[0;36mflat_map\u001b[0;34m(self, map_func, name)\u001b[0m\n\u001b[1;32m   2058\u001b[0m       \u001b[0mDataset\u001b[0m\u001b[0;34m:\u001b[0m \u001b[0mA\u001b[0m\u001b[0;31m \u001b[0m\u001b[0;31m`\u001b[0m\u001b[0mDataset\u001b[0m\u001b[0;31m`\u001b[0m\u001b[0;34m.\u001b[0m\u001b[0;34m\u001b[0m\u001b[0;34m\u001b[0m\u001b[0m\n\u001b[1;32m   2059\u001b[0m     \"\"\"\n\u001b[0;32m-> 2060\u001b[0;31m     \u001b[0;32mreturn\u001b[0m \u001b[0mFlatMapDataset\u001b[0m\u001b[0;34m(\u001b[0m\u001b[0mself\u001b[0m\u001b[0;34m,\u001b[0m \u001b[0mmap_func\u001b[0m\u001b[0;34m,\u001b[0m \u001b[0mname\u001b[0m\u001b[0;34m=\u001b[0m\u001b[0mname\u001b[0m\u001b[0;34m)\u001b[0m\u001b[0;34m\u001b[0m\u001b[0;34m\u001b[0m\u001b[0m\n\u001b[0m\u001b[1;32m   2061\u001b[0m \u001b[0;34m\u001b[0m\u001b[0m\n\u001b[1;32m   2062\u001b[0m   def interleave(self,\n",
            "\u001b[0;32m/usr/local/lib/python3.7/dist-packages/tensorflow/python/data/ops/dataset_ops.py\u001b[0m in \u001b[0;36m__init__\u001b[0;34m(self, input_dataset, map_func, name)\u001b[0m\n\u001b[1;32m   5278\u001b[0m     \u001b[0mself\u001b[0m\u001b[0;34m.\u001b[0m\u001b[0m_input_dataset\u001b[0m \u001b[0;34m=\u001b[0m \u001b[0minput_dataset\u001b[0m\u001b[0;34m\u001b[0m\u001b[0;34m\u001b[0m\u001b[0m\n\u001b[1;32m   5279\u001b[0m     self._map_func = structured_function.StructuredFunctionWrapper(\n\u001b[0;32m-> 5280\u001b[0;31m         map_func, self._transformation_name(), dataset=input_dataset)\n\u001b[0m\u001b[1;32m   5281\u001b[0m     \u001b[0;32mif\u001b[0m \u001b[0;32mnot\u001b[0m \u001b[0misinstance\u001b[0m\u001b[0;34m(\u001b[0m\u001b[0mself\u001b[0m\u001b[0;34m.\u001b[0m\u001b[0m_map_func\u001b[0m\u001b[0;34m.\u001b[0m\u001b[0moutput_structure\u001b[0m\u001b[0;34m,\u001b[0m \u001b[0mDatasetSpec\u001b[0m\u001b[0;34m)\u001b[0m\u001b[0;34m:\u001b[0m\u001b[0;34m\u001b[0m\u001b[0;34m\u001b[0m\u001b[0m\n\u001b[1;32m   5282\u001b[0m       raise TypeError(\n",
            "\u001b[0;32m/usr/local/lib/python3.7/dist-packages/tensorflow/python/data/ops/structured_function.py\u001b[0m in \u001b[0;36m__init__\u001b[0;34m(self, func, transformation_name, dataset, input_classes, input_shapes, input_types, input_structure, add_to_graph, use_legacy_function, defun_kwargs)\u001b[0m\n\u001b[1;32m    269\u001b[0m         \u001b[0mfn_factory\u001b[0m \u001b[0;34m=\u001b[0m \u001b[0mtrace_tf_function\u001b[0m\u001b[0;34m(\u001b[0m\u001b[0mdefun_kwargs\u001b[0m\u001b[0;34m)\u001b[0m\u001b[0;34m\u001b[0m\u001b[0;34m\u001b[0m\u001b[0m\n\u001b[1;32m    270\u001b[0m \u001b[0;34m\u001b[0m\u001b[0m\n\u001b[0;32m--> 271\u001b[0;31m     \u001b[0mself\u001b[0m\u001b[0;34m.\u001b[0m\u001b[0m_function\u001b[0m \u001b[0;34m=\u001b[0m \u001b[0mfn_factory\u001b[0m\u001b[0;34m(\u001b[0m\u001b[0;34m)\u001b[0m\u001b[0;34m\u001b[0m\u001b[0;34m\u001b[0m\u001b[0m\n\u001b[0m\u001b[1;32m    272\u001b[0m     \u001b[0;31m# There is no graph to add in eager mode.\u001b[0m\u001b[0;34m\u001b[0m\u001b[0;34m\u001b[0m\u001b[0;34m\u001b[0m\u001b[0m\n\u001b[1;32m    273\u001b[0m     \u001b[0madd_to_graph\u001b[0m \u001b[0;34m&=\u001b[0m \u001b[0;32mnot\u001b[0m \u001b[0mcontext\u001b[0m\u001b[0;34m.\u001b[0m\u001b[0mexecuting_eagerly\u001b[0m\u001b[0;34m(\u001b[0m\u001b[0;34m)\u001b[0m\u001b[0;34m\u001b[0m\u001b[0;34m\u001b[0m\u001b[0m\n",
            "\u001b[0;32m/usr/local/lib/python3.7/dist-packages/tensorflow/python/eager/function.py\u001b[0m in \u001b[0;36mget_concrete_function\u001b[0;34m(self, *args, **kwargs)\u001b[0m\n\u001b[1;32m   3069\u001b[0m     \"\"\"\n\u001b[1;32m   3070\u001b[0m     graph_function = self._get_concrete_function_garbage_collected(\n\u001b[0;32m-> 3071\u001b[0;31m         *args, **kwargs)\n\u001b[0m\u001b[1;32m   3072\u001b[0m     \u001b[0mgraph_function\u001b[0m\u001b[0;34m.\u001b[0m\u001b[0m_garbage_collector\u001b[0m\u001b[0;34m.\u001b[0m\u001b[0mrelease\u001b[0m\u001b[0;34m(\u001b[0m\u001b[0;34m)\u001b[0m  \u001b[0;31m# pylint: disable=protected-access\u001b[0m\u001b[0;34m\u001b[0m\u001b[0;34m\u001b[0m\u001b[0m\n\u001b[1;32m   3073\u001b[0m     \u001b[0;32mreturn\u001b[0m \u001b[0mgraph_function\u001b[0m\u001b[0;34m\u001b[0m\u001b[0;34m\u001b[0m\u001b[0m\n",
            "\u001b[0;32m/usr/local/lib/python3.7/dist-packages/tensorflow/python/eager/function.py\u001b[0m in \u001b[0;36m_get_concrete_function_garbage_collected\u001b[0;34m(self, *args, **kwargs)\u001b[0m\n\u001b[1;32m   3034\u001b[0m       \u001b[0margs\u001b[0m\u001b[0;34m,\u001b[0m \u001b[0mkwargs\u001b[0m \u001b[0;34m=\u001b[0m \u001b[0;32mNone\u001b[0m\u001b[0;34m,\u001b[0m \u001b[0;32mNone\u001b[0m\u001b[0;34m\u001b[0m\u001b[0;34m\u001b[0m\u001b[0m\n\u001b[1;32m   3035\u001b[0m     \u001b[0;32mwith\u001b[0m \u001b[0mself\u001b[0m\u001b[0;34m.\u001b[0m\u001b[0m_lock\u001b[0m\u001b[0;34m:\u001b[0m\u001b[0;34m\u001b[0m\u001b[0;34m\u001b[0m\u001b[0m\n\u001b[0;32m-> 3036\u001b[0;31m       \u001b[0mgraph_function\u001b[0m\u001b[0;34m,\u001b[0m \u001b[0m_\u001b[0m \u001b[0;34m=\u001b[0m \u001b[0mself\u001b[0m\u001b[0;34m.\u001b[0m\u001b[0m_maybe_define_function\u001b[0m\u001b[0;34m(\u001b[0m\u001b[0margs\u001b[0m\u001b[0;34m,\u001b[0m \u001b[0mkwargs\u001b[0m\u001b[0;34m)\u001b[0m\u001b[0;34m\u001b[0m\u001b[0;34m\u001b[0m\u001b[0m\n\u001b[0m\u001b[1;32m   3037\u001b[0m       \u001b[0mseen_names\u001b[0m \u001b[0;34m=\u001b[0m \u001b[0mset\u001b[0m\u001b[0;34m(\u001b[0m\u001b[0;34m)\u001b[0m\u001b[0;34m\u001b[0m\u001b[0;34m\u001b[0m\u001b[0m\n\u001b[1;32m   3038\u001b[0m       captured = object_identity.ObjectIdentitySet(\n",
            "\u001b[0;32m/usr/local/lib/python3.7/dist-packages/tensorflow/python/eager/function.py\u001b[0m in \u001b[0;36m_maybe_define_function\u001b[0;34m(self, args, kwargs)\u001b[0m\n\u001b[1;32m   3290\u001b[0m \u001b[0;34m\u001b[0m\u001b[0m\n\u001b[1;32m   3291\u001b[0m           \u001b[0mself\u001b[0m\u001b[0;34m.\u001b[0m\u001b[0m_function_cache\u001b[0m\u001b[0;34m.\u001b[0m\u001b[0madd_call_context\u001b[0m\u001b[0;34m(\u001b[0m\u001b[0mcache_key\u001b[0m\u001b[0;34m.\u001b[0m\u001b[0mcall_context\u001b[0m\u001b[0;34m)\u001b[0m\u001b[0;34m\u001b[0m\u001b[0;34m\u001b[0m\u001b[0m\n\u001b[0;32m-> 3292\u001b[0;31m           \u001b[0mgraph_function\u001b[0m \u001b[0;34m=\u001b[0m \u001b[0mself\u001b[0m\u001b[0;34m.\u001b[0m\u001b[0m_create_graph_function\u001b[0m\u001b[0;34m(\u001b[0m\u001b[0margs\u001b[0m\u001b[0;34m,\u001b[0m \u001b[0mkwargs\u001b[0m\u001b[0;34m)\u001b[0m\u001b[0;34m\u001b[0m\u001b[0;34m\u001b[0m\u001b[0m\n\u001b[0m\u001b[1;32m   3293\u001b[0m           self._function_cache.add(cache_key, cache_key_deletion_observer,\n\u001b[1;32m   3294\u001b[0m                                    graph_function)\n",
            "\u001b[0;32m/usr/local/lib/python3.7/dist-packages/tensorflow/python/eager/function.py\u001b[0m in \u001b[0;36m_create_graph_function\u001b[0;34m(self, args, kwargs, override_flat_arg_shapes)\u001b[0m\n\u001b[1;32m   3138\u001b[0m             \u001b[0marg_names\u001b[0m\u001b[0;34m=\u001b[0m\u001b[0marg_names\u001b[0m\u001b[0;34m,\u001b[0m\u001b[0;34m\u001b[0m\u001b[0;34m\u001b[0m\u001b[0m\n\u001b[1;32m   3139\u001b[0m             \u001b[0moverride_flat_arg_shapes\u001b[0m\u001b[0;34m=\u001b[0m\u001b[0moverride_flat_arg_shapes\u001b[0m\u001b[0;34m,\u001b[0m\u001b[0;34m\u001b[0m\u001b[0;34m\u001b[0m\u001b[0m\n\u001b[0;32m-> 3140\u001b[0;31m             capture_by_value=self._capture_by_value),\n\u001b[0m\u001b[1;32m   3141\u001b[0m         \u001b[0mself\u001b[0m\u001b[0;34m.\u001b[0m\u001b[0m_function_attributes\u001b[0m\u001b[0;34m,\u001b[0m\u001b[0;34m\u001b[0m\u001b[0;34m\u001b[0m\u001b[0m\n\u001b[1;32m   3142\u001b[0m         \u001b[0mfunction_spec\u001b[0m\u001b[0;34m=\u001b[0m\u001b[0mself\u001b[0m\u001b[0;34m.\u001b[0m\u001b[0mfunction_spec\u001b[0m\u001b[0;34m,\u001b[0m\u001b[0;34m\u001b[0m\u001b[0;34m\u001b[0m\u001b[0m\n",
            "\u001b[0;32m/usr/local/lib/python3.7/dist-packages/tensorflow/python/framework/func_graph.py\u001b[0m in \u001b[0;36mfunc_graph_from_py_func\u001b[0;34m(name, python_func, args, kwargs, signature, func_graph, autograph, autograph_options, add_control_dependencies, arg_names, op_return_value, collections, capture_by_value, override_flat_arg_shapes, acd_record_initial_resource_uses)\u001b[0m\n\u001b[1;32m   1159\u001b[0m         \u001b[0m_\u001b[0m\u001b[0;34m,\u001b[0m \u001b[0moriginal_func\u001b[0m \u001b[0;34m=\u001b[0m \u001b[0mtf_decorator\u001b[0m\u001b[0;34m.\u001b[0m\u001b[0munwrap\u001b[0m\u001b[0;34m(\u001b[0m\u001b[0mpython_func\u001b[0m\u001b[0;34m)\u001b[0m\u001b[0;34m\u001b[0m\u001b[0;34m\u001b[0m\u001b[0m\n\u001b[1;32m   1160\u001b[0m \u001b[0;34m\u001b[0m\u001b[0m\n\u001b[0;32m-> 1161\u001b[0;31m       \u001b[0mfunc_outputs\u001b[0m \u001b[0;34m=\u001b[0m \u001b[0mpython_func\u001b[0m\u001b[0;34m(\u001b[0m\u001b[0;34m*\u001b[0m\u001b[0mfunc_args\u001b[0m\u001b[0;34m,\u001b[0m \u001b[0;34m**\u001b[0m\u001b[0mfunc_kwargs\u001b[0m\u001b[0;34m)\u001b[0m\u001b[0;34m\u001b[0m\u001b[0;34m\u001b[0m\u001b[0m\n\u001b[0m\u001b[1;32m   1162\u001b[0m \u001b[0;34m\u001b[0m\u001b[0m\n\u001b[1;32m   1163\u001b[0m       \u001b[0;31m# invariant: `func_outputs` contains only Tensors, CompositeTensors,\u001b[0m\u001b[0;34m\u001b[0m\u001b[0;34m\u001b[0m\u001b[0;34m\u001b[0m\u001b[0m\n",
            "\u001b[0;32m/usr/local/lib/python3.7/dist-packages/tensorflow/python/data/ops/structured_function.py\u001b[0m in \u001b[0;36mwrapped_fn\u001b[0;34m(*args)\u001b[0m\n\u001b[1;32m    246\u001b[0m           attributes=defun_kwargs)\n\u001b[1;32m    247\u001b[0m       \u001b[0;32mdef\u001b[0m \u001b[0mwrapped_fn\u001b[0m\u001b[0;34m(\u001b[0m\u001b[0;34m*\u001b[0m\u001b[0margs\u001b[0m\u001b[0;34m)\u001b[0m\u001b[0;34m:\u001b[0m  \u001b[0;31m# pylint: disable=missing-docstring\u001b[0m\u001b[0;34m\u001b[0m\u001b[0;34m\u001b[0m\u001b[0m\n\u001b[0;32m--> 248\u001b[0;31m         \u001b[0mret\u001b[0m \u001b[0;34m=\u001b[0m \u001b[0mwrapper_helper\u001b[0m\u001b[0;34m(\u001b[0m\u001b[0;34m*\u001b[0m\u001b[0margs\u001b[0m\u001b[0;34m)\u001b[0m\u001b[0;34m\u001b[0m\u001b[0;34m\u001b[0m\u001b[0m\n\u001b[0m\u001b[1;32m    249\u001b[0m         \u001b[0mret\u001b[0m \u001b[0;34m=\u001b[0m \u001b[0mstructure\u001b[0m\u001b[0;34m.\u001b[0m\u001b[0mto_tensor_list\u001b[0m\u001b[0;34m(\u001b[0m\u001b[0mself\u001b[0m\u001b[0;34m.\u001b[0m\u001b[0m_output_structure\u001b[0m\u001b[0;34m,\u001b[0m \u001b[0mret\u001b[0m\u001b[0;34m)\u001b[0m\u001b[0;34m\u001b[0m\u001b[0;34m\u001b[0m\u001b[0m\n\u001b[1;32m    250\u001b[0m         \u001b[0;32mreturn\u001b[0m \u001b[0;34m[\u001b[0m\u001b[0mops\u001b[0m\u001b[0;34m.\u001b[0m\u001b[0mconvert_to_tensor\u001b[0m\u001b[0;34m(\u001b[0m\u001b[0mt\u001b[0m\u001b[0;34m)\u001b[0m \u001b[0;32mfor\u001b[0m \u001b[0mt\u001b[0m \u001b[0;32min\u001b[0m \u001b[0mret\u001b[0m\u001b[0;34m]\u001b[0m\u001b[0;34m\u001b[0m\u001b[0;34m\u001b[0m\u001b[0m\n",
            "\u001b[0;32m/usr/local/lib/python3.7/dist-packages/tensorflow/python/data/ops/structured_function.py\u001b[0m in \u001b[0;36mwrapper_helper\u001b[0;34m(*args)\u001b[0m\n\u001b[1;32m    175\u001b[0m       \u001b[0;32mif\u001b[0m \u001b[0;32mnot\u001b[0m \u001b[0m_should_unpack\u001b[0m\u001b[0;34m(\u001b[0m\u001b[0mnested_args\u001b[0m\u001b[0;34m)\u001b[0m\u001b[0;34m:\u001b[0m\u001b[0;34m\u001b[0m\u001b[0;34m\u001b[0m\u001b[0m\n\u001b[1;32m    176\u001b[0m         \u001b[0mnested_args\u001b[0m \u001b[0;34m=\u001b[0m \u001b[0;34m(\u001b[0m\u001b[0mnested_args\u001b[0m\u001b[0;34m,\u001b[0m\u001b[0;34m)\u001b[0m\u001b[0;34m\u001b[0m\u001b[0;34m\u001b[0m\u001b[0m\n\u001b[0;32m--> 177\u001b[0;31m       \u001b[0mret\u001b[0m \u001b[0;34m=\u001b[0m \u001b[0mautograph\u001b[0m\u001b[0;34m.\u001b[0m\u001b[0mtf_convert\u001b[0m\u001b[0;34m(\u001b[0m\u001b[0mself\u001b[0m\u001b[0;34m.\u001b[0m\u001b[0m_func\u001b[0m\u001b[0;34m,\u001b[0m \u001b[0mag_ctx\u001b[0m\u001b[0;34m)\u001b[0m\u001b[0;34m(\u001b[0m\u001b[0;34m*\u001b[0m\u001b[0mnested_args\u001b[0m\u001b[0;34m)\u001b[0m\u001b[0;34m\u001b[0m\u001b[0;34m\u001b[0m\u001b[0m\n\u001b[0m\u001b[1;32m    178\u001b[0m       \u001b[0;32mif\u001b[0m \u001b[0m_should_pack\u001b[0m\u001b[0;34m(\u001b[0m\u001b[0mret\u001b[0m\u001b[0;34m)\u001b[0m\u001b[0;34m:\u001b[0m\u001b[0;34m\u001b[0m\u001b[0;34m\u001b[0m\u001b[0m\n\u001b[1;32m    179\u001b[0m         \u001b[0mret\u001b[0m \u001b[0;34m=\u001b[0m \u001b[0mtuple\u001b[0m\u001b[0;34m(\u001b[0m\u001b[0mret\u001b[0m\u001b[0;34m)\u001b[0m\u001b[0;34m\u001b[0m\u001b[0;34m\u001b[0m\u001b[0m\n",
            "\u001b[0;32m/usr/local/lib/python3.7/dist-packages/tensorflow/python/autograph/impl/api.py\u001b[0m in \u001b[0;36mtf_convert\u001b[0;34m(f, ctx, convert_by_default, user_requested)\u001b[0m\n\u001b[1;32m    580\u001b[0m   \u001b[0;32melse\u001b[0m\u001b[0;34m:\u001b[0m\u001b[0;34m\u001b[0m\u001b[0;34m\u001b[0m\u001b[0m\n\u001b[1;32m    581\u001b[0m     \u001b[0;32massert\u001b[0m \u001b[0;32mFalse\u001b[0m\u001b[0;34m,\u001b[0m \u001b[0;34m'This switch contains all possible cases!'\u001b[0m\u001b[0;34m\u001b[0m\u001b[0;34m\u001b[0m\u001b[0m\n\u001b[0;32m--> 582\u001b[0;31m   \u001b[0mwrapper\u001b[0m \u001b[0;34m=\u001b[0m \u001b[0mwrapper_factory\u001b[0m\u001b[0;34m(\u001b[0m\u001b[0mf\u001b[0m\u001b[0;34m)\u001b[0m\u001b[0;34m\u001b[0m\u001b[0;34m\u001b[0m\u001b[0m\n\u001b[0m\u001b[1;32m    583\u001b[0m \u001b[0;34m\u001b[0m\u001b[0m\n\u001b[1;32m    584\u001b[0m   \u001b[0;32mif\u001b[0m \u001b[0mdecorators\u001b[0m\u001b[0;34m:\u001b[0m\u001b[0;34m\u001b[0m\u001b[0;34m\u001b[0m\u001b[0m\n",
            "\u001b[0;32m/usr/local/lib/python3.7/dist-packages/tensorflow/python/autograph/impl/api.py\u001b[0m in \u001b[0;36mdecorator\u001b[0;34m(f)\u001b[0m\n\u001b[1;32m    697\u001b[0m       \u001b[0mwrapper\u001b[0m \u001b[0;34m=\u001b[0m \u001b[0mfunctools\u001b[0m\u001b[0;34m.\u001b[0m\u001b[0mupdate_wrapper\u001b[0m\u001b[0;34m(\u001b[0m\u001b[0mwrapper\u001b[0m\u001b[0;34m,\u001b[0m \u001b[0mf\u001b[0m\u001b[0;34m)\u001b[0m\u001b[0;34m\u001b[0m\u001b[0;34m\u001b[0m\u001b[0m\n\u001b[1;32m    698\u001b[0m \u001b[0;34m\u001b[0m\u001b[0m\n\u001b[0;32m--> 699\u001b[0;31m     \u001b[0mdecorated_wrapper\u001b[0m \u001b[0;34m=\u001b[0m \u001b[0mtf_decorator\u001b[0m\u001b[0;34m.\u001b[0m\u001b[0mmake_decorator\u001b[0m\u001b[0;34m(\u001b[0m\u001b[0mf\u001b[0m\u001b[0;34m,\u001b[0m \u001b[0mwrapper\u001b[0m\u001b[0;34m)\u001b[0m\u001b[0;34m\u001b[0m\u001b[0;34m\u001b[0m\u001b[0m\n\u001b[0m\u001b[1;32m    700\u001b[0m     \u001b[0;32mreturn\u001b[0m \u001b[0mautograph_artifact\u001b[0m\u001b[0;34m(\u001b[0m\u001b[0mdecorated_wrapper\u001b[0m\u001b[0;34m)\u001b[0m\u001b[0;34m\u001b[0m\u001b[0;34m\u001b[0m\u001b[0m\n\u001b[1;32m    701\u001b[0m \u001b[0;34m\u001b[0m\u001b[0m\n",
            "\u001b[0;32m/usr/local/lib/python3.7/dist-packages/tensorflow/python/util/tf_decorator.py\u001b[0m in \u001b[0;36mmake_decorator\u001b[0;34m(target, decorator_func, decorator_name, decorator_doc, decorator_argspec)\u001b[0m\n\u001b[1;32m     93\u001b[0m   \u001b[0;32mif\u001b[0m \u001b[0mhasattr\u001b[0m\u001b[0;34m(\u001b[0m\u001b[0mtarget\u001b[0m\u001b[0;34m,\u001b[0m \u001b[0;34m'__dict__'\u001b[0m\u001b[0;34m)\u001b[0m\u001b[0;34m:\u001b[0m\u001b[0;34m\u001b[0m\u001b[0;34m\u001b[0m\u001b[0m\n\u001b[1;32m     94\u001b[0m     \u001b[0;31m# Copy dict entries from target which are not overridden by decorator_func.\u001b[0m\u001b[0;34m\u001b[0m\u001b[0;34m\u001b[0m\u001b[0;34m\u001b[0m\u001b[0m\n\u001b[0;32m---> 95\u001b[0;31m     \u001b[0;32mfor\u001b[0m \u001b[0mname\u001b[0m \u001b[0;32min\u001b[0m \u001b[0mtarget\u001b[0m\u001b[0;34m.\u001b[0m\u001b[0m__dict__\u001b[0m\u001b[0;34m:\u001b[0m\u001b[0;34m\u001b[0m\u001b[0;34m\u001b[0m\u001b[0m\n\u001b[0m\u001b[1;32m     96\u001b[0m       \u001b[0;32mif\u001b[0m \u001b[0mname\u001b[0m \u001b[0;32mnot\u001b[0m \u001b[0;32min\u001b[0m \u001b[0mdecorator_func\u001b[0m\u001b[0;34m.\u001b[0m\u001b[0m__dict__\u001b[0m\u001b[0;34m:\u001b[0m\u001b[0;34m\u001b[0m\u001b[0;34m\u001b[0m\u001b[0m\n\u001b[1;32m     97\u001b[0m         \u001b[0mdecorator_func\u001b[0m\u001b[0;34m.\u001b[0m\u001b[0m__dict__\u001b[0m\u001b[0;34m[\u001b[0m\u001b[0mname\u001b[0m\u001b[0;34m]\u001b[0m \u001b[0;34m=\u001b[0m \u001b[0mtarget\u001b[0m\u001b[0;34m.\u001b[0m\u001b[0m__dict__\u001b[0m\u001b[0;34m[\u001b[0m\u001b[0mname\u001b[0m\u001b[0;34m]\u001b[0m\u001b[0;34m\u001b[0m\u001b[0;34m\u001b[0m\u001b[0m\n",
            "\u001b[0;31mKeyboardInterrupt\u001b[0m: "
          ]
        }
      ]
    }
  ]
}